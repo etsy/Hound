{
 "cells": [
  {
   "cell_type": "code",
   "execution_count": 9,
   "metadata": {},
   "outputs": [],
   "source": [
    "def hyphenated_days_ago(days, rundate):\n",
    "    # import airflow macros in here, rather than at the top of the module,\n",
    "    # to prevent circular import errors\n",
    "\n",
    "    import airflow.macros\n",
    "    return airflow.macros.ds_add(rundate, 1 - days)\n",
    "\n",
    "def underscored(rundate):\n",
    "    return rundate.replace('-', '_')\n",
    "\n",
    "def underscored_days_ago(days, rundate):\n",
    "    return underscored(hyphenated_days_ago(days, rundate))"
   ]
  },
  {
   "cell_type": "code",
   "execution_count": 10,
   "metadata": {},
   "outputs": [
    {
     "data": {
      "text/plain": [
       "'2020_10_16'"
      ]
     },
     "execution_count": 10,
     "metadata": {},
     "output_type": "execute_result"
    }
   ],
   "source": [
    "underscored_days_ago(0, \"2020-10-15\")"
   ]
  },
  {
   "cell_type": "code",
   "execution_count": 5,
   "metadata": {},
   "outputs": [],
   "source": [
    "import airflow.macros"
   ]
  },
  {
   "cell_type": "code",
   "execution_count": null,
   "metadata": {},
   "outputs": [],
   "source": []
  }
 ],
 "metadata": {
  "kernelspec": {
   "display_name": "Python 3",
   "language": "python",
   "name": "python3"
  },
  "language_info": {
   "codemirror_mode": {
    "name": "ipython",
    "version": 3
   },
   "file_extension": ".py",
   "mimetype": "text/x-python",
   "name": "python",
   "nbconvert_exporter": "python",
   "pygments_lexer": "ipython3",
   "version": "3.6.8"
  }
 },
 "nbformat": 4,
 "nbformat_minor": 4
}
